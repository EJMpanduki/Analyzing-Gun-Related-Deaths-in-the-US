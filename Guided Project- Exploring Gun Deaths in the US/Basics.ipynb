{
 "cells": [
  {
   "cell_type": "markdown",
   "metadata": {
    "collapsed": true
   },
   "source": [
    "# Exploring gun-related deaths in the US from 2012 to 2014\n",
    "\n",
    "In this project I am exploring a dataset that contains information on gun deaths in the US from 2012 to 2014. Each row in the dataset represents a single fatality. The columns contain demographic and other information about the victim. Primarily this is another opportunity for me to practice my python analysis skills.\n",
    "The dataset was obtained from _FiveThirtyEight_"
   ]
  },
  {
   "cell_type": "code",
   "execution_count": 1,
   "metadata": {},
   "outputs": [
    {
     "name": "stdout",
     "output_type": "stream",
     "text": [
      "[['', 'year', 'month', 'intent', 'police', 'sex', 'age', 'race', 'hispanic', 'place', 'education'], ['1', '2012', '01', 'Suicide', '0', 'M', '34', 'Asian/Pacific Islander', '100', 'Home', '4'], ['2', '2012', '01', 'Suicide', '0', 'F', '21', 'White', '100', 'Street', '3'], ['3', '2012', '01', 'Suicide', '0', 'M', '60', 'White', '100', 'Other specified', '4'], ['4', '2012', '02', 'Suicide', '0', 'M', '64', 'White', '100', 'Home', '4']]\n"
     ]
    }
   ],
   "source": [
    "# Preparing the dataset for analysis\n",
    "\n",
    "import csv\n",
    "f = open('guns.csv', 'r')\n",
    "data = list(csv.reader(f))\n",
    "\n",
    "# data preview\n",
    "print(data[:5])\n",
    "\n",
    "\n"
   ]
  },
  {
   "cell_type": "code",
   "execution_count": 2,
   "metadata": {},
   "outputs": [
    {
     "name": "stdout",
     "output_type": "stream",
     "text": [
      "['', 'year', 'month', 'intent', 'police', 'sex', 'age', 'race', 'hispanic', 'place', 'education']\n",
      "[['1', '2012', '01', 'Suicide', '0', 'M', '34', 'Asian/Pacific Islander', '100', 'Home', '4'], ['2', '2012', '01', 'Suicide', '0', 'F', '21', 'White', '100', 'Street', '3'], ['3', '2012', '01', 'Suicide', '0', 'M', '60', 'White', '100', 'Other specified', '4'], ['4', '2012', '02', 'Suicide', '0', 'M', '64', 'White', '100', 'Home', '4'], ['5', '2012', '02', 'Suicide', '0', 'M', '31', 'White', '100', 'Other specified', '2']]\n"
     ]
    }
   ],
   "source": [
    "# removing header row from data\n",
    "\n",
    "headers = data[0]\n",
    "data = data[1:]\n",
    "\n",
    "print(headers)    #Header Row\n",
    "print(data[:5])   #First Five Rows of Data without Header\n"
   ]
  },
  {
   "cell_type": "markdown",
   "metadata": {},
   "source": [
    "### Gun-Related Deaths By Year\n",
    "\n",
    "Now that the data has been prepped we will look at how many deaths took place each of the years we are analyzing. We will store in a dictionary\n"
   ]
  },
  {
   "cell_type": "code",
   "execution_count": 3,
   "metadata": {},
   "outputs": [
    {
     "name": "stdout",
     "output_type": "stream",
     "text": [
      "{'2012': 33563, '2013': 33636, '2014': 33599}\n"
     ]
    }
   ],
   "source": [
    "def demographic_dictionary(demographic):\n",
    "    \n",
    "    demo_name = []\n",
    "    demo_index = headers.index(demographic)\n",
    "    for row in data:\n",
    "        demo_name.append(row[demo_index])\n",
    "\n",
    "    #creating and populating the demographic counts dictionary\n",
    "\n",
    "    demo_counts = {}\n",
    "    for demo in demo_name:\n",
    "        if demo in demo_counts:\n",
    "            demo_counts[demo] += 1\n",
    "        else:\n",
    "            demo_counts[demo] = 1\n",
    "    return demo_counts\n",
    "\n",
    "year_counts = demographic_dictionary('year')\n",
    "print(year_counts)"
   ]
  },
  {
   "cell_type": "markdown",
   "metadata": {},
   "source": [
    "As can be seen above the gun related deaths 2012, 2013 and 2014 were respectively 33,562, 33,636, and 33,599 which doesn't suggest an increase or decrease in gun related deaths over the period. [Click here](https://public.tableau.com/views/GunDeaths2012-2014/YearlyGun-RelatedDeathTotals?:embed=y&:display_count=yes) to visualize the above data in a pie chart.\n",
    "Let's see if gun deaths in the US change by month and year"
   ]
  },
  {
   "cell_type": "markdown",
   "metadata": {},
   "source": [
    "### Gun Related Deaths By Month"
   ]
  },
  {
   "cell_type": "code",
   "execution_count": 4,
   "metadata": {},
   "outputs": [
    {
     "name": "stdout",
     "output_type": "stream",
     "text": [
      "{datetime.datetime(2012, 1, 1, 0, 0): 2758, datetime.datetime(2012, 2, 1, 0, 0): 2357, datetime.datetime(2012, 3, 1, 0, 0): 2743, datetime.datetime(2012, 4, 1, 0, 0): 2795, datetime.datetime(2012, 5, 1, 0, 0): 2999, datetime.datetime(2012, 6, 1, 0, 0): 2826, datetime.datetime(2012, 7, 1, 0, 0): 3026, datetime.datetime(2012, 8, 1, 0, 0): 2954, datetime.datetime(2012, 9, 1, 0, 0): 2852, datetime.datetime(2012, 10, 1, 0, 0): 2733, datetime.datetime(2012, 11, 1, 0, 0): 2729, datetime.datetime(2012, 12, 1, 0, 0): 2791, datetime.datetime(2013, 1, 1, 0, 0): 2864, datetime.datetime(2013, 2, 1, 0, 0): 2375, datetime.datetime(2013, 3, 1, 0, 0): 2862, datetime.datetime(2013, 4, 1, 0, 0): 2798, datetime.datetime(2013, 5, 1, 0, 0): 2806, datetime.datetime(2013, 6, 1, 0, 0): 2920, datetime.datetime(2013, 7, 1, 0, 0): 3079, datetime.datetime(2013, 8, 1, 0, 0): 2859, datetime.datetime(2013, 9, 1, 0, 0): 2742, datetime.datetime(2013, 10, 1, 0, 0): 2808, datetime.datetime(2013, 11, 1, 0, 0): 2758, datetime.datetime(2013, 12, 1, 0, 0): 2765, datetime.datetime(2014, 1, 1, 0, 0): 2651, datetime.datetime(2014, 2, 1, 0, 0): 2361, datetime.datetime(2014, 3, 1, 0, 0): 2684, datetime.datetime(2014, 4, 1, 0, 0): 2862, datetime.datetime(2014, 5, 1, 0, 0): 2864, datetime.datetime(2014, 6, 1, 0, 0): 2931, datetime.datetime(2014, 7, 1, 0, 0): 2884, datetime.datetime(2014, 8, 1, 0, 0): 2970, datetime.datetime(2014, 9, 1, 0, 0): 2914, datetime.datetime(2014, 10, 1, 0, 0): 2865, datetime.datetime(2014, 11, 1, 0, 0): 2756, datetime.datetime(2014, 12, 1, 0, 0): 2857}\n"
     ]
    }
   ],
   "source": [
    "\"\"\"\n",
    "creating the dates dataset since we do not have a \n",
    "specific day we will assign the first of each month to the dates\n",
    "database unfortunately we will not be able to use demo_counts function on dates\n",
    "\"\"\"\n",
    "\n",
    "import datetime\n",
    "dates = []\n",
    "\n",
    "for row in data:\n",
    "    date = (datetime.datetime(year = int(row[1]),month = int(row[2]), day =1))\n",
    "    dates.append(date)\n",
    "\n",
    "#uncomment print statement to view dates    \n",
    "#print(dates[:5])\n",
    "\n",
    "#creating and populating the date counts dictionary  \n",
    "\n",
    "date_counts = {}\n",
    "for date in dates:\n",
    "    if date in date_counts:\n",
    "        date_counts[date] += 1\n",
    "    else:\n",
    "        date_counts[date] = 1\n",
    "         \n",
    "print(date_counts)\n",
    "    \n",
    "    "
   ]
  },
  {
   "cell_type": "markdown",
   "metadata": {},
   "source": [
    "Over the 3 year span there appears to be a seasonal trend with most gun-related deaths happening in the summer. It is unclear why this might be the case. Also if you look at this [chart](https://public.tableau.com/views/GunDeaths2012-2014/MonthlyGun-RelatedDeathTotals?:embed=y&:display_count=yes) you will notice that there is sharp decrease in gun-related deaths in the month of February each year. If we are to assume that gun related deaths are uniformely distributed then the drop could be explained by the fact that February has less days than all other months, although admitedly this does not seem to capture the whole drop.\n"
   ]
  },
  {
   "cell_type": "markdown",
   "metadata": {},
   "source": [
    "### Sex and Race"
   ]
  },
  {
   "cell_type": "code",
   "execution_count": 5,
   "metadata": {},
   "outputs": [
    {
     "name": "stdout",
     "output_type": "stream",
     "text": [
      "{'M': 86349, 'F': 14449}\n",
      "{'Asian/Pacific Islander': 1326, 'White': 66237, 'Native American/Native Alaskan': 917, 'Black': 23296, 'Hispanic': 9022}\n"
     ]
    }
   ],
   "source": [
    "sex_counts = demographic_dictionary('sex')\n",
    "print(sex_counts)\n",
    "race_counts = demographic_dictionary('race')\n",
    "print(race_counts)\n",
    "\n"
   ]
  },
  {
   "cell_type": "markdown",
   "metadata": {},
   "source": [
    "###### Sex\n",
    "\n",
    "Now we begin to see some disparities in gun related deaths. There are approximately 6 times as many Males as Females suffering from gun-related deaths which can be visualized [here](https://public.tableau.com/shared/KCFX8T678?:display_count=yes).\n",
    "\n",
    "###### Race\n",
    "As well there is a significant disparity by race which can be seen [here](https://public.tableau.com/views/GunDeaths2012-2014/Race?:embed=y&:display_count=yes). However further analysis here is required:"
   ]
  },
  {
   "cell_type": "markdown",
   "metadata": {},
   "source": [
    "We will now look at some census data to so as to ascertain the rate of gun deaths per 100,000 people of each race"
   ]
  },
  {
   "cell_type": "code",
   "execution_count": 6,
   "metadata": {},
   "outputs": [
    {
     "name": "stdout",
     "output_type": "stream",
     "text": [
      "[['Id', 'Year', 'Id', 'Sex', 'Id', 'Hispanic Origin', 'Id', 'Id2', 'Geography', 'Total', 'Race Alone - White', 'Race Alone - Hispanic', 'Race Alone - Black or African American', 'Race Alone - American Indian and Alaska Native', 'Race Alone - Asian', 'Race Alone - Native Hawaiian and Other Pacific Islander', 'Two or More Races'], ['cen42010', 'April 1, 2010 Census', 'totsex', 'Both Sexes', 'tothisp', 'Total', '0100000US', '', 'United States', '308745538', '197318956', '44618105', '40250635', '3739506', '15159516', '674625', '6984195']]\n"
     ]
    }
   ],
   "source": [
    "# Importing the Census dataset to aid in the analysis\n",
    "\n",
    "import csv\n",
    "f = open('census.csv', 'r')\n",
    "census = list(csv.reader(f))\n",
    "\n",
    "#Census Data set\n",
    "print(census)"
   ]
  },
  {
   "cell_type": "code",
   "execution_count": 7,
   "metadata": {},
   "outputs": [
    {
     "data": {
      "text/plain": [
       "{'Asian/Pacific Islander': 8.374309664161762,\n",
       " 'Black': 57.8773477735196,\n",
       " 'Hispanic': 20.220491210910907,\n",
       " 'Native American/Native Alaskan': 24.521955573811088,\n",
       " 'White': 33.56849303419181}"
      ]
     },
     "execution_count": 7,
     "metadata": {},
     "output_type": "execute_result"
    }
   ],
   "source": [
    "\n",
    "## mapping the census data to our race demographics\n",
    "mapping = {\n",
    "    'Asian/Pacific Islander': int(census[1][14]) + int(census[1][15]),\n",
    "    'Black': int(census[1][12]),\n",
    "    'Hispanic': int(census[1][11]),\n",
    "    'Native American/Native Alaskan': int(census[1][13]),\n",
    "    'White': int(census[1][10])\n",
    "}\n",
    "\n",
    "## creating the race per hundred thousand dictionary\n",
    "\n",
    "race_per_hundredk = {}\n",
    "\n",
    "for key in race_counts:\n",
    "    race_per_hundredk[key] = race_counts[key] / mapping[key] *100000\n",
    "\n",
    "race_per_hundredk\n"
   ]
  },
  {
   "cell_type": "markdown",
   "metadata": {},
   "source": [
    "Having looked at the different populations we can now see the differences in gun-related death rates per 100,000 people of any particular race. Black people have the highest death rate per hundred thousand at nearly 58 despite being the 3rd largest demographic and having significantly fewer people than White or Hispanic people.\n",
    "\n",
    "##### Filtering for intent\n",
    "We can furthermore analyze these numbers to see which of these deaths had homicidal intent:"
   ]
  },
  {
   "cell_type": "code",
   "execution_count": 8,
   "metadata": {},
   "outputs": [
    {
     "data": {
      "text/plain": [
       "{'Asian/Pacific Islander': 3.530346230970155,\n",
       " 'Black': 48.471284987180944,\n",
       " 'Hispanic': 12.627161104219914,\n",
       " 'Native American/Native Alaskan': 8.717729026240365,\n",
       " 'White': 4.6356417981453335}"
      ]
     },
     "execution_count": 8,
     "metadata": {},
     "output_type": "execute_result"
    }
   ],
   "source": [
    "def list_comp(demographic):\n",
    "    \n",
    "    demo_name = []\n",
    "    demo_index = headers.index(demographic)\n",
    "    for row in data:\n",
    "        demo_name.append(row[demo_index])\n",
    "    return demo_name\n",
    "\n",
    "intents = list_comp('intent')\n",
    "races = list_comp('race')\n",
    "\n",
    "homicide_race_counts = {}\n",
    "\n",
    "for i, race in enumerate(races):\n",
    "    if intents[i] == 'Homicide':\n",
    "        if race in homicide_race_counts:\n",
    "            homicide_race_counts[race] += 1\n",
    "        else:\n",
    "            homicide_race_counts[race] = 1\n",
    "homicide_race_counts\n",
    "\n",
    "homicide_race_per_hundredk = {}\n",
    "\n",
    "for key in homicide_race_counts:\n",
    "    homicide_race_per_hundredk[key] = homicide_race_counts[key] / mapping[key] *100000\n",
    "\n",
    "homicide_race_per_hundredk\n"
   ]
  },
  {
   "cell_type": "markdown",
   "metadata": {},
   "source": [
    "## Conclusion\n",
    "\n",
    "It appears that gun related homicides in the US disproportionately affect people in the Black and Hispanic racial categories.\n",
    "Some areas to investigate further:\n",
    "\n",
    "- The link between month and homicide rate.\n",
    "- Homicide rate by gender.\n",
    "- The rates of other intents by gender and race.\n",
    "- Gun death rates by location and education."
   ]
  },
  {
   "cell_type": "code",
   "execution_count": null,
   "metadata": {
    "collapsed": true
   },
   "outputs": [],
   "source": []
  }
 ],
 "metadata": {
  "kernelspec": {
   "display_name": "Python 3",
   "language": "python",
   "name": "python3"
  },
  "language_info": {
   "codemirror_mode": {
    "name": "ipython",
    "version": 3
   },
   "file_extension": ".py",
   "mimetype": "text/x-python",
   "name": "python",
   "nbconvert_exporter": "python",
   "pygments_lexer": "ipython3",
   "version": "3.6.1"
  }
 },
 "nbformat": 4,
 "nbformat_minor": 1
}
